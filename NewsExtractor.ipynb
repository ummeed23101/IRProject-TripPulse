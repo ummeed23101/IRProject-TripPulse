{
 "cells": [
  {
   "cell_type": "code",
   "execution_count": 10,
   "id": "df27db58",
   "metadata": {},
   "outputs": [
    {
     "name": "stdout",
     "output_type": "stream",
     "text": [
      "Requirement already satisfied: selenium in c:\\users\\ummeed\\anaconda3\\lib\\site-packages (4.18.1)\n",
      "Requirement already satisfied: urllib3[socks]<3,>=1.26 in c:\\users\\ummeed\\anaconda3\\lib\\site-packages (from selenium) (1.26.16)\n",
      "Requirement already satisfied: trio~=0.17 in c:\\users\\ummeed\\anaconda3\\lib\\site-packages (from selenium) (0.24.0)\n",
      "Requirement already satisfied: trio-websocket~=0.9 in c:\\users\\ummeed\\anaconda3\\lib\\site-packages (from selenium) (0.11.1)\n",
      "Requirement already satisfied: certifi>=2021.10.8 in c:\\users\\ummeed\\anaconda3\\lib\\site-packages (from selenium) (2024.2.2)\n",
      "Requirement already satisfied: typing_extensions>=4.9.0 in c:\\users\\ummeed\\anaconda3\\lib\\site-packages (from selenium) (4.10.0)\n",
      "Requirement already satisfied: attrs>=20.1.0 in c:\\users\\ummeed\\anaconda3\\lib\\site-packages (from trio~=0.17->selenium) (22.1.0)\n",
      "Requirement already satisfied: sortedcontainers in c:\\users\\ummeed\\anaconda3\\lib\\site-packages (from trio~=0.17->selenium) (2.4.0)\n",
      "Requirement already satisfied: idna in c:\\users\\ummeed\\anaconda3\\lib\\site-packages (from trio~=0.17->selenium) (3.4)\n",
      "Requirement already satisfied: outcome in c:\\users\\ummeed\\anaconda3\\lib\\site-packages (from trio~=0.17->selenium) (1.3.0.post0)\n",
      "Requirement already satisfied: sniffio>=1.3.0 in c:\\users\\ummeed\\anaconda3\\lib\\site-packages (from trio~=0.17->selenium) (1.3.1)\n",
      "Requirement already satisfied: cffi>=1.14 in c:\\users\\ummeed\\anaconda3\\lib\\site-packages (from trio~=0.17->selenium) (1.15.1)\n",
      "Requirement already satisfied: wsproto>=0.14 in c:\\users\\ummeed\\anaconda3\\lib\\site-packages (from trio-websocket~=0.9->selenium) (1.2.0)\n",
      "Requirement already satisfied: PySocks!=1.5.7,<2.0,>=1.5.6 in c:\\users\\ummeed\\anaconda3\\lib\\site-packages (from urllib3[socks]<3,>=1.26->selenium) (1.7.1)\n",
      "Requirement already satisfied: pycparser in c:\\users\\ummeed\\anaconda3\\lib\\site-packages (from cffi>=1.14->trio~=0.17->selenium) (2.21)\n",
      "Requirement already satisfied: h11<1,>=0.9.0 in c:\\users\\ummeed\\anaconda3\\lib\\site-packages (from wsproto>=0.14->trio-websocket~=0.9->selenium) (0.14.0)\n",
      "Requirement already satisfied: webdriver_manager in c:\\users\\ummeed\\anaconda3\\lib\\site-packages (4.0.1)\n",
      "Requirement already satisfied: requests in c:\\users\\ummeed\\anaconda3\\lib\\site-packages (from webdriver_manager) (2.31.0)\n",
      "Requirement already satisfied: python-dotenv in c:\\users\\ummeed\\anaconda3\\lib\\site-packages (from webdriver_manager) (0.21.0)\n",
      "Requirement already satisfied: packaging in c:\\users\\ummeed\\anaconda3\\lib\\site-packages (from webdriver_manager) (23.1)\n",
      "Requirement already satisfied: charset-normalizer<4,>=2 in c:\\users\\ummeed\\anaconda3\\lib\\site-packages (from requests->webdriver_manager) (2.0.4)\n",
      "Requirement already satisfied: idna<4,>=2.5 in c:\\users\\ummeed\\anaconda3\\lib\\site-packages (from requests->webdriver_manager) (3.4)\n",
      "Requirement already satisfied: urllib3<3,>=1.21.1 in c:\\users\\ummeed\\anaconda3\\lib\\site-packages (from requests->webdriver_manager) (1.26.16)\n",
      "Requirement already satisfied: certifi>=2017.4.17 in c:\\users\\ummeed\\anaconda3\\lib\\site-packages (from requests->webdriver_manager) (2024.2.2)\n"
     ]
    }
   ],
   "source": [
    "!pip install selenium\n",
    "!pip install webdriver_manager\n",
    "\n"
   ]
  },
  {
   "cell_type": "code",
   "execution_count": 14,
   "id": "47ab7d7e",
   "metadata": {},
   "outputs": [
    {
     "name": "stdout",
     "output_type": "stream",
     "text": [
      "Enter the country code (e.g., 'us' for USA, 'uk' for UK): us\n",
      "Enter your search query for Google News: mumbai\n",
      "1. Top tourism companies in India - https://housing.com/news/top-tourism-companies-in-india/\n",
      "2. India's most Instagrammed tourist hotspots in 2024 - https://www.thenationalnews.com/travel/2024/04/16/top-tourist-places-india/\n",
      "3. Travel influencer Tara Katims is slammed for going on slum tour of Mumbai and saying it's 'her favourite part - https://www.dailymail.co.uk/femail/article-13206985/american-influencer-slammed-india-dharavi-slums.html\n",
      "4. From Ed Sheeran to Taylor Swift, more Indians travel for the live music experience - https://www.thehindu.com/entertainment/from-ed-sheeran-to-taylor-swift-more-indians-travel-for-the-live-music-experience/article67935123.ece\n",
      "5. Navi Mumbai Airport to Spark Tourism Boom With Plans For Tourist Zone - https://www.travelandleisureasia.com/in/news/navi-mumbai-airport-eateries-parks-hotels-to-open-in-the-vicinity/\n",
      "6. Navi Mumbai Airport to get tourism zone - India's Top Travel News Source - https://travelbizmonitor.com/navi-mumbai-airport-to-get-tourism-zone/\n",
      "7. Singapore Tourism Board's Bollywood and food integrations to revive footfall from India - https://www.afaqs.com/news/mktg/singapore-tourism-boards-bollywood-and-food-integrations-to-revive-indian-tourism\n",
      "8. Outbound Travel Mart (OTM) 2024 - https://www.kemlu.go.id/mumbai/en/news/28019/outbound-travel-mart-otm-2024\n",
      "9. Indian visitors help surge Sri Lanka tourism - https://www.hotelierindia.com/business/sri-lanka-tourism-hits-record-high-with-a-surge-in-indian-visitors-india-maintains-position-as-top-source-market\n",
      "10. Qatar Tourism engages with India on account of OTM Mumbai - https://travelbizmonitor.com/qatar-tourism-engages-with-india-on-account-of-otm-mumbai/\n",
      "11. Bahrain Tourism And Exhibitions Authority Wins Best Design And Decoration Award At OTM 2024, Focuses On Indian - https://www.freepressjournal.in/business/bahrain-tourism-and-exhibitions-authority-wins-best-design-and-decoration-award-at-otm-2024-focuses-on-indian-market\n",
      "12. Qatar Tourism showcases its offerings at OTM Mumbai 2024 - https://traveltradejournal.com/qatar-tourism-showcases-its-offerings-at-otm-mumbai-2024/\n",
      "13. Sri Lanka Tourism sees record Indian tourists’ arrivals - https://www.travelandtourworld.com/news/article/sri-lanka-tourism-sees-record-indian-tourists-arrivals/\n",
      "14. Bahrain tourism shines at OTM 2024, Mumbai with top honors in design - https://www.travelandtourworld.com/news/article/bahrain-tourism-shines-at-otm-2024-mumbai-with-top-honors-in-design/\n",
      "15. Taiwan opens 'Tourism Information Centre' in Mumbai - https://www.traveldailymedia.com/taiwan-opens-tourism-information-centre-in-mumbai/\n",
      "16. Taiwan opens Tourism Information Centre in Mumbai; makes a grand destination showcase at OTM - https://traveltradejournal.com/taiwan-opens-tourism-information-centre-in-mumbai-makes-a-grand-destination-showcase-at-otm/\n",
      "17. Goa Tourism's Pavallion Highlights Regenerative Tourism & Ekadasha Teertha Campaign at OTM 2024 – Asia's ... - https://tourismbreakingnews.com/goa-tourisms-pavallion-highlights-regenerative-tourism-ekadasha-teertha-campaign-at-otm-2024-asias-premier-travel-trade-show-at-mumbai/\n",
      "18. Tourism Malaysia reignites Indian Market at OTM 2024, Mumbai - https://www.traveldailynews.asia/organizations/tourism-malaysia-reignites-indian-market-at-otm-2024-mumbai/\n",
      "19. Mumbai Tourism Trade Fair Set to Ring in Revival of Summer Tourism in Himachal Pradesh - https://himbumail.com/home/latest/mumbai-tourism-trade-fair-set\n",
      "20. J&K Tourism shines at OTM Mumbai - https://www.dailyexcelsior.com/jk-tourism-shines-at-otm-mumbai/\n",
      "21. Qatar Tourism participates in OTM Mumbai 2024 - https://www.zawya.com/en/world/middle-east/qatar-tourism-participates-in-otm-mumbai-2024-mb3ti9of\n",
      "22. Qatar Tourism participates in OTM Mumbai 2024, Asia’s leading travel show - https://www.zawya.com/en/press-release/companies-news/qatar-tourism-participates-in-otm-mumbai-2024-asias-leading-travel-show-n7bb37jt\n",
      "23. Qatar Tourism Participates in 'OTM Mumbai 2024' Travel Show - https://www.qna.org.qa/en/News-Area/News/2024-02/11/0048-qatar-tourism-participates-in-'otm-mumbai-2024'-travel-show\n",
      "24. Azerbaijan promotes its tourism potential in Mumbai - https://azertag.az/en/xeber/azerbaijan_promotes_its_tourism_potential_in_mumbai-2916973\n",
      "25. Tourism Department Ladakh participates in OTM, 2024 at Mumbai - https://kashmirpatriot.com/2024/02/10/tourism-department-ladakh-participates-in-otm-2024-at-mumbai/\n",
      "26. Moroccan tourism aims to attract Indian travelers at OTM fair in Mumbai - https://en.yabiladi.com/articles/details/146551/moroccan-tourism-aims-attract-indian.html\n",
      "27. Tulum tourism representatives heading to Mumbai, India - https://mexiconewsdaily.com/travel/tulum-tourism-representatives-heading-to-mumbai-india/\n",
      "28. Karnataka Tourism marvels shine in Mumbai Roadshow - https://www.travelandtourworld.com/news/article/karnataka-tourism-marvels-shine-in-mumbai-roadshow/\n",
      "29. Karnataka Tourism to Unveils Spectacular Roadshow in Mumbai to Showcase State's Tourism Marvels - https://globalprimenews.com/2024/02/02/karnataka-tourism-to-unveils-spectacular-roadshow-in-mumbai-to-showcase-states-tourism-marvels/\n",
      "30. 1600 exhibitors, over 30 tourism boards to participates in OTM 2024 in Mumbai on Feb 8-10 - https://www.cnbctv18.com/travel/1600-exhibitors-over-30-tourism-boards-to-participates-in-otm-2024-in-mumbai-on-feb-8-10-18906301.htm\n",
      "31. 1600 exhibitors, over 30 tourism boards to participates in OTM 2024 in Mumbai on Feb 8-10 - https://www.cnbctv18.com/travel/1600-exhibitors-over-30-tourism-boards-to-participates-in-otm-2024-in-mumbai-on-feb-8-10-18906301.htm\n",
      "32. Mumbai Festival 2024: Tourism conclave paves way for sustainable tourism practices - https://timesofindia.indiatimes.com/city/mumbai/mumbai-festival-2024-tourism-conclave-paves-way-for-sustainable-tourism-practices/articleshow/107167077.cms\n",
      "33. Mumbai Festival 2024 Tourism Conclave envisions sustainable growth and collaboration - https://traveltradejournal.com/mumbai-festival-2024-tourism-conclave-envisions-sustainable-growth-and-collaboration/\n",
      "34. Leading travel show in Asia, 2024 edition of OTM receives an overwhelming response from global tourism markets - https://www.aninews.in/news/business/business/leading-travel-show-in-asia-2024-edition-of-otm-receives-an-overwhelming-response-from-global-tourism-markets20240124104237\n",
      "35. Tourism Conclave at Mumbai Festival today aims to bolster India-Japan ties - https://timesofindia.indiatimes.com/city/mumbai/tourism-conclave-at-mumbai-festival-today-aims-to-bolster-india-japan-ties/articleshow/107097171.cms\n",
      "36. Samruddhi Mahamarg: Route map, toll - https://housing.com/news/mumbai-nagpur-super-expressway-finally-become-reality/\n",
      "37. HRAWI applauds the inauguration of Atal Setu as a boon for tourism and hospitality - https://hospitality.economictimes.indiatimes.com/news/travel/hrawi-applauds-the-inauguration-of-atal-setu-as-a-boon-for-tourism-and-hospitality/106862332\n",
      "38. 6 Eco-friendly Things to do in “Mumbai” the City of Dreams - https://blueandgreentomorrow.com/features/eco-friendly-things-to-do-mumbai-city-of-dreams/\n",
      "39. 10 unexplored places in Thailand to check out - https://www.hindustantimes.com/lifestyle/travel/10-unexplored-places-in-thailand-to-check-out-after-visa-waiver-for-indians-101698901219949.html\n",
      "40. 17 best tourist places to visit in Lonavala and things to do - https://housing.com/news/lonavala-tourist-places-to-visit-and-things-to-do/\n",
      "41. Domestic travelers fuel India’s tourism sector | Travel | Onmanorama - https://www.onmanorama.com/travel/travel-news/2023/12/28/domestic-traveler-india-tourism-covid-travel.html\n",
      "42. Surge In Mumbais Suburban Railway Tourism: Nearly 3 Lakh Passengers Embrace Affordable, Flexible Travel With - https://www.freepressjournal.in/india/surge-in-mumbais-suburban-railway-tourism-nearly-3-lakh-passengers-embrace-affordable-flexible-travel-with-tourist-tickets\n",
      "43. 8 places to visit near Mumbai for new year 2024 weekend - https://www.businessinsider.in/travel/india/webstories/8-places-to-visit-near-mumbai-for-new-year-2024-weekend/slidelist/106264225.cms\n",
      "44. State Tourism Agency starts preparation for OTM Mumbai 2024 - https://www.azernews.az/travel/219353.html\n",
      "45. SOTC Travel wins two awards for the 2nd time at The Economic Times Travel & Tourism Annual Awards - https://www.apnnews.com/sotc-travel-wins-two-awards-for-the-2nd-time-at-the-economic-times-travel-tourism-annual-awards/\n",
      "46. LA Tourism celebrates Hollywood Sign's centennial milestone in Mumbai - https://traveltradejournal.com/la-tourism-celebrates-hollywood-signs-centennial-milestone-in-mumbai/\n",
      "47. Wine-based tourism and international tourist flow can improve Maharashtra's GDP by nearly 20%: Report - https://timesofindia.indiatimes.com/city/mumbai/wine-based-tourism-and-international-tourist-flow-can-improve-maharashtras-gdp-by-nearly-20-report/articleshow/104503812.cms\n",
      "48. IITM 2023 Shines in Mumbai: Spotlight on Jammu and Kashmir Tourism - https://www.travelandtourworld.com/news/article/iitm-2023-shines-in-mumbai-spotlight-on-jammu-and-kashmir-tourism/\n",
      "49. Korea Tourism Organization organises roadshow in Mumbai, showcases its vibrant MICE offerings - https://traveltradejournal.com/korea-tourism-organization-organises-roadshow-in-mumbai-showcases-its-vibrant-mice-offerings/\n",
      "50. Sphere Travel Media resumes India International Travel Mart in Mumbai for 2023 - https://www.traveldailynews.asia/meetings-events/sphere-travel-media-resumes-india-international-travel-mart-in-mumbai-for-2023/\n"
     ]
    }
   ],
   "source": [
    "import csv\n",
    "from selenium import webdriver\n",
    "from selenium.webdriver.common.by import By\n",
    "from selenium.webdriver.chrome.service import Service\n",
    "from selenium.webdriver.chrome.options import Options\n",
    "from webdriver_manager.chrome import ChromeDriverManager\n",
    "from selenium.webdriver.support.ui import WebDriverWait\n",
    "from selenium.webdriver.support import expected_conditions as EC\n",
    "import time\n",
    "\n",
    "# Function to set up the driver\n",
    "def setup_driver():\n",
    "    options = Options()\n",
    "    options.headless = True  # Set to False if you want to see the browser window\n",
    "    driver = webdriver.Chrome(service=Service(ChromeDriverManager().install()), options=options)\n",
    "    return driver\n",
    "\n",
    "\n",
    "def get_news(query, limit=50, country_code='us'):\n",
    "    driver = setup_driver()\n",
    "    formatted_query = '+'.join(query.split())\n",
    "    news_url = f\"https://www.google.com/search?q={formatted_query}&tbm=nws&source=lnt&tbs=sbd:1&gl={country_code}\"\n",
    "    driver.get(news_url)\n",
    "    wait = WebDriverWait(driver, 10)\n",
    "    news_list = []\n",
    "\n",
    "    try:\n",
    "        while len(news_list) < limit:\n",
    "            time.sleep(2)\n",
    "            news_boxes = wait.until(EC.visibility_of_all_elements_located((By.XPATH, '//*[@id=\"rso\"]/div/div/div/div/div/a')))\n",
    "            for box in news_boxes:\n",
    "                if len(news_list) >= limit:\n",
    "                    break\n",
    "                title_element = box.find_element(By.XPATH, './/div[@class=\"n0jPhd ynAwRc MBeuO nDgy9d\"]')\n",
    "                title = title_element.text\n",
    "                link = box.get_attribute('href')\n",
    "                news_list.append((title, link))\n",
    "                \n",
    "            next_button = driver.find_element(By.XPATH, '//a[@id=\"pnnext\"]')\n",
    "            next_button.click()\n",
    "    except Exception as e:\n",
    "        print(f\"Error during news collection or navigation: {e}\")\n",
    "    finally:\n",
    "        driver.quit()\n",
    "\n",
    "    # Exporting to CSV\n",
    "    with open('news_list.csv', 'w', newline='', encoding='utf-8') as file:\n",
    "        writer = csv.writer(file)\n",
    "        writer.writerow(['Title', 'URL'])  # Writing the headers\n",
    "        writer.writerows(news_list)\n",
    "\n",
    "    return news_list\n",
    "\n",
    "# User input for country-specific search\n",
    "country_code = input(\"Enter the country code (e.g., 'us' for USA, 'uk' for UK): \")\n",
    "query = input(\"Enter your search query for Google News: \")\n",
    "news_query=query+\" +tourism +travel \"\n",
    "news_articles = get_news(news_query, country_code=country_code)\n",
    "\n",
    "for idx, (title, link) in enumerate(news_articles, 1):\n",
    "    print(f\"{idx}. {title} - {link}\")\n"
   ]
  },
  {
   "cell_type": "code",
   "execution_count": 12,
   "id": "7996461d",
   "metadata": {},
   "outputs": [
    {
     "name": "stdout",
     "output_type": "stream",
     "text": [
      "Requirement already satisfied: pysentimiento in c:\\users\\ummeed\\anaconda3\\lib\\site-packages (0.7.3)\n",
      "Requirement already satisfied: accelerate>=0.27.2 in c:\\users\\ummeed\\anaconda3\\lib\\site-packages (from pysentimiento) (0.29.3)\n",
      "Requirement already satisfied: datasets>=2.10.1 in c:\\users\\ummeed\\anaconda3\\lib\\site-packages (from pysentimiento) (2.12.0)\n",
      "Requirement already satisfied: emoji>=1.6.1 in c:\\users\\ummeed\\anaconda3\\lib\\site-packages (from pysentimiento) (2.11.0)\n",
      "Requirement already satisfied: spacy>=3.5.0 in c:\\users\\ummeed\\anaconda3\\lib\\site-packages (from pysentimiento) (3.7.4)\n",
      "Requirement already satisfied: torch!=2.0.1,>=2.0.0 in c:\\users\\ummeed\\anaconda3\\lib\\site-packages (from pysentimiento) (2.2.2)\n",
      "Requirement already satisfied: transformers>=4.13.0 in c:\\users\\ummeed\\anaconda3\\lib\\site-packages (from pysentimiento) (4.40.0)\n",
      "Requirement already satisfied: numpy>=1.17 in c:\\users\\ummeed\\anaconda3\\lib\\site-packages (from accelerate>=0.27.2->pysentimiento) (1.24.3)\n",
      "Requirement already satisfied: packaging>=20.0 in c:\\users\\ummeed\\anaconda3\\lib\\site-packages (from accelerate>=0.27.2->pysentimiento) (23.1)\n",
      "Requirement already satisfied: psutil in c:\\users\\ummeed\\anaconda3\\lib\\site-packages (from accelerate>=0.27.2->pysentimiento) (5.9.0)\n",
      "Requirement already satisfied: pyyaml in c:\\users\\ummeed\\anaconda3\\lib\\site-packages (from accelerate>=0.27.2->pysentimiento) (6.0)\n",
      "Requirement already satisfied: huggingface-hub in c:\\users\\ummeed\\anaconda3\\lib\\site-packages (from accelerate>=0.27.2->pysentimiento) (0.22.2)\n",
      "Requirement already satisfied: safetensors>=0.3.1 in c:\\users\\ummeed\\anaconda3\\lib\\site-packages (from accelerate>=0.27.2->pysentimiento) (0.4.3)\n",
      "Requirement already satisfied: pyarrow>=8.0.0 in c:\\users\\ummeed\\anaconda3\\lib\\site-packages (from datasets>=2.10.1->pysentimiento) (11.0.0)\n",
      "Requirement already satisfied: dill<0.3.7,>=0.3.0 in c:\\users\\ummeed\\anaconda3\\lib\\site-packages (from datasets>=2.10.1->pysentimiento) (0.3.6)\n",
      "Requirement already satisfied: pandas in c:\\users\\ummeed\\anaconda3\\lib\\site-packages (from datasets>=2.10.1->pysentimiento) (2.0.3)\n",
      "Requirement already satisfied: requests>=2.19.0 in c:\\users\\ummeed\\anaconda3\\lib\\site-packages (from datasets>=2.10.1->pysentimiento) (2.31.0)\n",
      "Requirement already satisfied: tqdm>=4.62.1 in c:\\users\\ummeed\\anaconda3\\lib\\site-packages (from datasets>=2.10.1->pysentimiento) (4.65.0)\n",
      "Requirement already satisfied: xxhash in c:\\users\\ummeed\\anaconda3\\lib\\site-packages (from datasets>=2.10.1->pysentimiento) (2.0.2)\n",
      "Requirement already satisfied: multiprocess in c:\\users\\ummeed\\anaconda3\\lib\\site-packages (from datasets>=2.10.1->pysentimiento) (0.70.14)\n",
      "Requirement already satisfied: fsspec[http]>=2021.11.1 in c:\\users\\ummeed\\anaconda3\\lib\\site-packages (from datasets>=2.10.1->pysentimiento) (2024.3.1)\n",
      "Requirement already satisfied: aiohttp in c:\\users\\ummeed\\anaconda3\\lib\\site-packages (from datasets>=2.10.1->pysentimiento) (3.8.5)\n",
      "Requirement already satisfied: responses<0.19 in c:\\users\\ummeed\\anaconda3\\lib\\site-packages (from datasets>=2.10.1->pysentimiento) (0.13.3)\n",
      "Requirement already satisfied: spacy-legacy<3.1.0,>=3.0.11 in c:\\users\\ummeed\\anaconda3\\lib\\site-packages (from spacy>=3.5.0->pysentimiento) (3.0.12)\n",
      "Requirement already satisfied: spacy-loggers<2.0.0,>=1.0.0 in c:\\users\\ummeed\\anaconda3\\lib\\site-packages (from spacy>=3.5.0->pysentimiento) (1.0.5)\n",
      "Requirement already satisfied: murmurhash<1.1.0,>=0.28.0 in c:\\users\\ummeed\\anaconda3\\lib\\site-packages (from spacy>=3.5.0->pysentimiento) (1.0.10)\n",
      "Requirement already satisfied: cymem<2.1.0,>=2.0.2 in c:\\users\\ummeed\\anaconda3\\lib\\site-packages (from spacy>=3.5.0->pysentimiento) (2.0.8)\n",
      "Requirement already satisfied: preshed<3.1.0,>=3.0.2 in c:\\users\\ummeed\\anaconda3\\lib\\site-packages (from spacy>=3.5.0->pysentimiento) (3.0.9)\n",
      "Requirement already satisfied: thinc<8.3.0,>=8.2.2 in c:\\users\\ummeed\\anaconda3\\lib\\site-packages (from spacy>=3.5.0->pysentimiento) (8.2.3)\n",
      "Requirement already satisfied: wasabi<1.2.0,>=0.9.1 in c:\\users\\ummeed\\anaconda3\\lib\\site-packages (from spacy>=3.5.0->pysentimiento) (1.1.2)\n",
      "Requirement already satisfied: srsly<3.0.0,>=2.4.3 in c:\\users\\ummeed\\anaconda3\\lib\\site-packages (from spacy>=3.5.0->pysentimiento) (2.4.8)\n",
      "Requirement already satisfied: catalogue<2.1.0,>=2.0.6 in c:\\users\\ummeed\\anaconda3\\lib\\site-packages (from spacy>=3.5.0->pysentimiento) (2.0.10)\n",
      "Requirement already satisfied: weasel<0.4.0,>=0.1.0 in c:\\users\\ummeed\\anaconda3\\lib\\site-packages (from spacy>=3.5.0->pysentimiento) (0.3.4)\n",
      "Requirement already satisfied: typer<0.10.0,>=0.3.0 in c:\\users\\ummeed\\anaconda3\\lib\\site-packages (from spacy>=3.5.0->pysentimiento) (0.9.4)\n",
      "Requirement already satisfied: smart-open<7.0.0,>=5.2.1 in c:\\users\\ummeed\\anaconda3\\lib\\site-packages (from spacy>=3.5.0->pysentimiento) (5.2.1)\n",
      "Requirement already satisfied: pydantic!=1.8,!=1.8.1,<3.0.0,>=1.7.4 in c:\\users\\ummeed\\anaconda3\\lib\\site-packages (from spacy>=3.5.0->pysentimiento) (1.10.8)\n",
      "Requirement already satisfied: jinja2 in c:\\users\\ummeed\\anaconda3\\lib\\site-packages (from spacy>=3.5.0->pysentimiento) (3.1.2)\n",
      "Requirement already satisfied: setuptools in c:\\users\\ummeed\\anaconda3\\lib\\site-packages (from spacy>=3.5.0->pysentimiento) (68.0.0)\n",
      "Requirement already satisfied: langcodes<4.0.0,>=3.2.0 in c:\\users\\ummeed\\anaconda3\\lib\\site-packages (from spacy>=3.5.0->pysentimiento) (3.3.0)\n",
      "Requirement already satisfied: filelock in c:\\users\\ummeed\\anaconda3\\lib\\site-packages (from torch!=2.0.1,>=2.0.0->pysentimiento) (3.9.0)\n",
      "Requirement already satisfied: typing-extensions>=4.8.0 in c:\\users\\ummeed\\anaconda3\\lib\\site-packages (from torch!=2.0.1,>=2.0.0->pysentimiento) (4.10.0)\n",
      "Requirement already satisfied: sympy in c:\\users\\ummeed\\anaconda3\\lib\\site-packages (from torch!=2.0.1,>=2.0.0->pysentimiento) (1.11.1)\n",
      "Requirement already satisfied: networkx in c:\\users\\ummeed\\anaconda3\\lib\\site-packages (from torch!=2.0.1,>=2.0.0->pysentimiento) (3.1)\n",
      "Requirement already satisfied: regex!=2019.12.17 in c:\\users\\ummeed\\anaconda3\\lib\\site-packages (from transformers>=4.13.0->pysentimiento) (2022.7.9)\n",
      "Requirement already satisfied: tokenizers<0.20,>=0.19 in c:\\users\\ummeed\\anaconda3\\lib\\site-packages (from transformers>=4.13.0->pysentimiento) (0.19.1)\n",
      "Requirement already satisfied: attrs>=17.3.0 in c:\\users\\ummeed\\anaconda3\\lib\\site-packages (from aiohttp->datasets>=2.10.1->pysentimiento) (22.1.0)\n",
      "Requirement already satisfied: charset-normalizer<4.0,>=2.0 in c:\\users\\ummeed\\anaconda3\\lib\\site-packages (from aiohttp->datasets>=2.10.1->pysentimiento) (2.0.4)\n",
      "Requirement already satisfied: multidict<7.0,>=4.5 in c:\\users\\ummeed\\anaconda3\\lib\\site-packages (from aiohttp->datasets>=2.10.1->pysentimiento) (6.0.2)\n",
      "Requirement already satisfied: async-timeout<5.0,>=4.0.0a3 in c:\\users\\ummeed\\anaconda3\\lib\\site-packages (from aiohttp->datasets>=2.10.1->pysentimiento) (4.0.2)\n",
      "Requirement already satisfied: yarl<2.0,>=1.0 in c:\\users\\ummeed\\anaconda3\\lib\\site-packages (from aiohttp->datasets>=2.10.1->pysentimiento) (1.8.1)\n",
      "Requirement already satisfied: frozenlist>=1.1.1 in c:\\users\\ummeed\\anaconda3\\lib\\site-packages (from aiohttp->datasets>=2.10.1->pysentimiento) (1.3.3)\n",
      "Requirement already satisfied: aiosignal>=1.1.2 in c:\\users\\ummeed\\anaconda3\\lib\\site-packages (from aiohttp->datasets>=2.10.1->pysentimiento) (1.2.0)\n",
      "Requirement already satisfied: idna<4,>=2.5 in c:\\users\\ummeed\\anaconda3\\lib\\site-packages (from requests>=2.19.0->datasets>=2.10.1->pysentimiento) (3.4)\n",
      "Requirement already satisfied: urllib3<3,>=1.21.1 in c:\\users\\ummeed\\anaconda3\\lib\\site-packages (from requests>=2.19.0->datasets>=2.10.1->pysentimiento) (1.26.16)\n",
      "Requirement already satisfied: certifi>=2017.4.17 in c:\\users\\ummeed\\anaconda3\\lib\\site-packages (from requests>=2.19.0->datasets>=2.10.1->pysentimiento) (2024.2.2)\n",
      "Requirement already satisfied: six in c:\\users\\ummeed\\anaconda3\\lib\\site-packages (from responses<0.19->datasets>=2.10.1->pysentimiento) (1.16.0)\n",
      "Requirement already satisfied: blis<0.8.0,>=0.7.8 in c:\\users\\ummeed\\anaconda3\\lib\\site-packages (from thinc<8.3.0,>=8.2.2->spacy>=3.5.0->pysentimiento) (0.7.11)\n",
      "Requirement already satisfied: confection<1.0.0,>=0.0.1 in c:\\users\\ummeed\\anaconda3\\lib\\site-packages (from thinc<8.3.0,>=8.2.2->spacy>=3.5.0->pysentimiento) (0.1.4)\n",
      "Requirement already satisfied: colorama in c:\\users\\ummeed\\anaconda3\\lib\\site-packages (from tqdm>=4.62.1->datasets>=2.10.1->pysentimiento) (0.4.6)\n",
      "Requirement already satisfied: click<9.0.0,>=7.1.1 in c:\\users\\ummeed\\anaconda3\\lib\\site-packages (from typer<0.10.0,>=0.3.0->spacy>=3.5.0->pysentimiento) (8.0.4)\n",
      "Requirement already satisfied: cloudpathlib<0.17.0,>=0.7.0 in c:\\users\\ummeed\\anaconda3\\lib\\site-packages (from weasel<0.4.0,>=0.1.0->spacy>=3.5.0->pysentimiento) (0.16.0)\n",
      "Requirement already satisfied: MarkupSafe>=2.0 in c:\\users\\ummeed\\anaconda3\\lib\\site-packages (from jinja2->spacy>=3.5.0->pysentimiento) (2.1.1)\n",
      "Requirement already satisfied: python-dateutil>=2.8.2 in c:\\users\\ummeed\\anaconda3\\lib\\site-packages (from pandas->datasets>=2.10.1->pysentimiento) (2.8.2)\n",
      "Requirement already satisfied: pytz>=2020.1 in c:\\users\\ummeed\\anaconda3\\lib\\site-packages (from pandas->datasets>=2.10.1->pysentimiento) (2023.3.post1)\n",
      "Requirement already satisfied: tzdata>=2022.1 in c:\\users\\ummeed\\anaconda3\\lib\\site-packages (from pandas->datasets>=2.10.1->pysentimiento) (2023.3)\n",
      "Requirement already satisfied: mpmath>=0.19 in c:\\users\\ummeed\\anaconda3\\lib\\site-packages (from sympy->torch!=2.0.1,>=2.0.0->pysentimiento) (1.3.0)\n",
      "Note: you may need to restart the kernel to use updated packages.\n"
     ]
    }
   ],
   "source": [
    "pip install pysentimiento"
   ]
  },
  {
   "cell_type": "code",
   "execution_count": 2,
   "id": "6d708d8e",
   "metadata": {},
   "outputs": [
    {
     "name": "stdout",
     "output_type": "stream",
     "text": [
      "Sentiment Analysis done for all news.\n"
     ]
    }
   ],
   "source": [
    "import csv\n",
    "from pysentimiento import create_analyzer\n",
    "\n",
    "# Create a sentiment analyzer for English\n",
    "analyzer = create_analyzer(task=\"sentiment\", lang=\"en\")\n",
    "\n",
    "def analyze_titles(csv_path):\n",
    "    # Read the news titles from CSV\n",
    "    with open(csv_path, mode='r', newline='', encoding='utf-8') as file:\n",
    "        reader = csv.reader(file)\n",
    "        headers = next(reader)  # Skip the header\n",
    "        news_data = [row for row in reader]\n",
    "\n",
    "    # Analyze sentiment and append results\n",
    "    analyzed_data = []\n",
    "    for row in news_data:\n",
    "        if len(row) < 2:\n",
    "            continue  # Skip rows that don't have at least two columns\n",
    "        title = row[0]  # Assuming the first column is the title\n",
    "        url = row[1]  # Assuming the second column is the URL\n",
    "        analysis = analyzer.predict(title)\n",
    "        sentiment = max(analysis.probas, key=analysis.probas.get)\n",
    "        score = analysis.probas[sentiment]\n",
    "        analyzed_data.append(row + [sentiment, score])  # Append sentiment data to the existing data\n",
    "\n",
    "    # Write the updated data back to the CSV\n",
    "    with open(csv_path, mode='w', newline='', encoding='utf-8') as file:\n",
    "        writer = csv.writer(file)\n",
    "        writer.writerow(headers + ['Sentiment', 'Score'])  # Append new columns to the header\n",
    "        writer.writerows(analyzed_data)\n",
    "        \n",
    "print(\"Sentiment Analysis done for all news.\")\n",
    "\n",
    "# Path to your CSV file\n",
    "csv_path = 'shimla.csv'\n",
    "analyze_titles(csv_path)\n"
   ]
  },
  {
   "cell_type": "code",
   "execution_count": 25,
   "id": "0545d150",
   "metadata": {},
   "outputs": [
    {
     "data": {
      "application/vnd.jupyter.widget-view+json": {
       "model_id": "aa3369cd3551446a9055cc35e229b051",
       "version_major": 2,
       "version_minor": 0
      },
      "text/plain": [
       "config.json:   0%|          | 0.00/999 [00:00<?, ?B/s]"
      ]
     },
     "metadata": {},
     "output_type": "display_data"
    },
    {
     "name": "stderr",
     "output_type": "stream",
     "text": [
      "C:\\Users\\Ummeed\\anaconda3\\Lib\\site-packages\\huggingface_hub\\file_download.py:148: UserWarning: `huggingface_hub` cache-system uses symlinks by default to efficiently store duplicated files but your machine does not support them in C:\\Users\\Ummeed\\.cache\\huggingface\\hub\\models--finiteautomata--bertweet-base-emotion-analysis. Caching files will still work but in a degraded version that might require more space on your disk. This warning can be disabled by setting the `HF_HUB_DISABLE_SYMLINKS_WARNING` environment variable. For more details, see https://huggingface.co/docs/huggingface_hub/how-to-cache#limitations.\n",
      "To support symlinks on Windows, you either need to activate Developer Mode or to run Python as an administrator. In order to see activate developer mode, see this article: https://docs.microsoft.com/en-us/windows/apps/get-started/enable-your-device-for-development\n",
      "  warnings.warn(message)\n"
     ]
    },
    {
     "data": {
      "application/vnd.jupyter.widget-view+json": {
       "model_id": "538ef27b9c994616a6a990ea3eec04ce",
       "version_major": 2,
       "version_minor": 0
      },
      "text/plain": [
       "model.safetensors:   0%|          | 0.00/540M [00:00<?, ?B/s]"
      ]
     },
     "metadata": {},
     "output_type": "display_data"
    },
    {
     "data": {
      "application/vnd.jupyter.widget-view+json": {
       "model_id": "69f9f74d8eff4a2f82a5886bd1f10b6c",
       "version_major": 2,
       "version_minor": 0
      },
      "text/plain": [
       "tokenizer_config.json:   0%|          | 0.00/295 [00:00<?, ?B/s]"
      ]
     },
     "metadata": {},
     "output_type": "display_data"
    },
    {
     "data": {
      "application/vnd.jupyter.widget-view+json": {
       "model_id": "53334c45e7e347d286aa1c2e2f81410e",
       "version_major": 2,
       "version_minor": 0
      },
      "text/plain": [
       "vocab.txt:   0%|          | 0.00/843k [00:00<?, ?B/s]"
      ]
     },
     "metadata": {},
     "output_type": "display_data"
    },
    {
     "data": {
      "application/vnd.jupyter.widget-view+json": {
       "model_id": "c9ef3945d58a4eb5bce448be43d9f130",
       "version_major": 2,
       "version_minor": 0
      },
      "text/plain": [
       "bpe.codes:   0%|          | 0.00/1.08M [00:00<?, ?B/s]"
      ]
     },
     "metadata": {},
     "output_type": "display_data"
    },
    {
     "data": {
      "application/vnd.jupyter.widget-view+json": {
       "model_id": "e47caeb3e084446183999a4030ca2a0f",
       "version_major": 2,
       "version_minor": 0
      },
      "text/plain": [
       "added_tokens.json:   0%|          | 0.00/17.0 [00:00<?, ?B/s]"
      ]
     },
     "metadata": {},
     "output_type": "display_data"
    },
    {
     "data": {
      "application/vnd.jupyter.widget-view+json": {
       "model_id": "d07631d6d3bc4e6cb96bbb4787f00313",
       "version_major": 2,
       "version_minor": 0
      },
      "text/plain": [
       "special_tokens_map.json:   0%|          | 0.00/150 [00:00<?, ?B/s]"
      ]
     },
     "metadata": {},
     "output_type": "display_data"
    },
    {
     "data": {
      "text/plain": [
       "AnalyzerOutput(output=others, probas={others: 0.925, joy: 0.065, surprise: 0.005, fear: 0.002, disgust: 0.001, anger: 0.001, sadness: 0.001})"
      ]
     },
     "execution_count": 25,
     "metadata": {},
     "output_type": "execute_result"
    }
   ],
   "source": [
    "emotion_analyzer = create_analyzer(task=\"emotion\", lang=\"en\")\n",
    "emotion_analyzer.predict(\"Good News: Ahmedabad-Delhi Bullet Train to Cut Travel Time to 3.5 Hours.\")\n"
   ]
  }
 ],
 "metadata": {
  "kernelspec": {
   "display_name": "Python 3 (ipykernel)",
   "language": "python",
   "name": "python3"
  },
  "language_info": {
   "codemirror_mode": {
    "name": "ipython",
    "version": 3
   },
   "file_extension": ".py",
   "mimetype": "text/x-python",
   "name": "python",
   "nbconvert_exporter": "python",
   "pygments_lexer": "ipython3",
   "version": "3.11.5"
  }
 },
 "nbformat": 4,
 "nbformat_minor": 5
}
