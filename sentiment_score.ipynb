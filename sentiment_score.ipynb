{
  "nbformat": 4,
  "nbformat_minor": 0,
  "metadata": {
    "colab": {
      "provenance": []
    },
    "kernelspec": {
      "name": "python3",
      "display_name": "Python 3"
    },
    "language_info": {
      "name": "python"
    }
  },
  "cells": [
    {
      "cell_type": "code",
      "execution_count": 3,
      "metadata": {
        "colab": {
          "base_uri": "https://localhost:8080/"
        },
        "id": "LuDuysAoG6tG",
        "outputId": "b4def640-f9a8-4d70-9e93-348617089e40"
      },
      "outputs": [
        {
          "output_type": "stream",
          "name": "stdout",
          "text": [
            "Accuracy: 0.6055045871559633\n",
            "Precision: 0.6079510703363914\n",
            "F1 Score: 0.5607630014259195\n"
          ]
        }
      ],
      "source": [
        "from sklearn.metrics import accuracy_score, precision_score, f1_score\n",
        "import pandas as pd\n",
        "\n",
        "# Assuming you have loaded your CSV into two lists or arrays: actual_labels and model_labels\n",
        "df = pd.read_csv(\"news_score.csv\")\n",
        "actual_labels = df['actual']\n",
        "model_labels = df['Sentiment']\n",
        "\n",
        "# Calculate accuracy\n",
        "accuracy = accuracy_score(actual_labels, model_labels)\n",
        "\n",
        "# Calculate precision\n",
        "precision = precision_score(actual_labels, model_labels, average='weighted')\n",
        "\n",
        "# Calculate F1 score\n",
        "f1 = f1_score(actual_labels, model_labels, average='weighted')\n",
        "\n",
        "print(\"Accuracy:\", accuracy)\n",
        "print(\"Precision:\", precision)\n",
        "print(\"F1 Score:\", f1)\n"
      ]
    }
  ]
}