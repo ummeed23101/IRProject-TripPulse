{
 "cells": [
  {
   "cell_type": "code",
   "execution_count": 11,
   "metadata": {},
   "outputs": [
    {
     "name": "stdout",
     "output_type": "stream",
     "text": [
      "Requirement already satisfied: opencage in c:\\users\\91880\\anaconda3\\lib\\site-packages (2.4.0)\n",
      "Requirement already satisfied: backoff>=2.2.1 in c:\\users\\91880\\anaconda3\\lib\\site-packages (from opencage) (2.2.1)\n",
      "Requirement already satisfied: Requests>=2.31.0 in c:\\users\\91880\\anaconda3\\lib\\site-packages (from opencage) (2.31.0)\n",
      "Requirement already satisfied: certifi>=2017.4.17 in c:\\users\\91880\\anaconda3\\lib\\site-packages (from Requests>=2.31.0->opencage) (2019.11.28)\n",
      "Requirement already satisfied: charset-normalizer<4,>=2 in c:\\users\\91880\\anaconda3\\lib\\site-packages (from Requests>=2.31.0->opencage) (3.3.2)\n",
      "Requirement already satisfied: urllib3<3,>=1.21.1 in c:\\users\\91880\\anaconda3\\lib\\site-packages (from Requests>=2.31.0->opencage) (1.25.8)\n",
      "Requirement already satisfied: idna<4,>=2.5 in c:\\users\\91880\\anaconda3\\lib\\site-packages (from Requests>=2.31.0->opencage) (2.8)\n",
      "Latitude and Longitude of United States: 39.7837304, -100.445882\n"
     ]
    }
   ],
   "source": [
    "from opencage.geocoder import OpenCageGeocode\n",
    "\n",
    "def get_country_coordinates(country_name):\n",
    "    \n",
    "    geocoder = OpenCageGeocode('453c2a70a757416ea757168a8eef03f2')\n",
    "    query = f'{country_name}'\n",
    "    results = geocoder.geocode(query)\n",
    "\n",
    "    if results and len(results):\n",
    "        latitude = results[0]['geometry']['lat']\n",
    "        longitude = results[0]['geometry']['lng']\n",
    "        return latitude, longitude\n",
    "    else:\n",
    "        print(\"Could not find coordinates for the country.\")\n",
    "        return None\n",
    "\n",
    "\n",
    "country_name = \"United States\"  # Specify the country here\n",
    "latitude, longitude = get_country_coordinates(country_name)\n",
    "if latitude is not None and longitude is not None:\n",
    "    print(f\"Latitude and Longitude of {country_name}: {latitude}, {longitude}\")\n"
   ]
  },
  {
   "cell_type": "code",
   "execution_count": 16,
   "metadata": {},
   "outputs": [
    {
     "name": "stdout",
     "output_type": "stream",
     "text": [
      "Current Temperature: 15.7°C\n"
     ]
    }
   ],
   "source": [
    "import requests\n",
    "\n",
    "def get_weather_forecast(latitude, longitude):\n",
    "    url = f\"https://api.open-meteo.com/v1/forecast?latitude={latitude}&longitude={longitude}&hourly=temperature_2m\"\n",
    "    \n",
    "    try:\n",
    "        response = requests.get(url)\n",
    "        data = response.json()\n",
    "        \n",
    "        hourly_temperature = data['hourly']['temperature_2m']\n",
    "        \n",
    "        current_temperature = hourly_temperature[0]\n",
    "        \n",
    "        return current_temperature\n",
    "    except Exception as e:\n",
    "        print(\"Error fetching weather data:\", e)\n",
    "        return None\n",
    "\n",
    "\n",
    "current_temperature = get_weather_forecast(latitude, longitude)\n",
    "\n",
    "if current_temperature is not None:\n",
    "    print(f\"Current Temperature: {current_temperature}°C\")\n"
   ]
  }
 ],
 "metadata": {
  "kernelspec": {
   "display_name": "Python 3",
   "language": "python",
   "name": "python3"
  },
  "language_info": {
   "codemirror_mode": {
    "name": "ipython",
    "version": 3
   },
   "file_extension": ".py",
   "mimetype": "text/x-python",
   "name": "python",
   "nbconvert_exporter": "python",
   "pygments_lexer": "ipython3",
   "version": "3.7.6"
  }
 },
 "nbformat": 4,
 "nbformat_minor": 4
}
