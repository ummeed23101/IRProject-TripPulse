{
 "cells": [
  {
   "cell_type": "code",
   "execution_count": null,
   "id": "f856781f",
   "metadata": {},
   "outputs": [],
   "source": [
    "!pip install selenium\n",
    "!pip install webdriver_manager"
   ]
  },
  {
   "cell_type": "code",
   "execution_count": 3,
   "id": "d997540c",
   "metadata": {},
   "outputs": [
    {
     "name": "stdout",
     "output_type": "stream",
     "text": [
      "Enter location to search hotels: vellore\n",
      "Hotels data has been saved and printed.\n"
     ]
    }
   ],
   "source": [
    "import csv\n",
    "from selenium import webdriver\n",
    "from selenium.webdriver.common.by import By\n",
    "from selenium.webdriver.chrome.service import Service\n",
    "from selenium.webdriver.chrome.options import Options\n",
    "from webdriver_manager.chrome import ChromeDriverManager\n",
    "import time\n",
    "\n",
    "# Function to set up the driver\n",
    "def setup_driver():\n",
    "    options = Options()\n",
    "    options.headless = True  # Set to True for no browser popup\n",
    "    driver = webdriver.Chrome(service=Service(ChromeDriverManager().install()), options=options)\n",
    "    return driver\n",
    "\n",
    "def fetch_hotels(search_query):\n",
    "    driver = setup_driver()\n",
    "    url = f\"https://www.google.com/travel/search?q={search_query}\"\n",
    "    driver.get(url)\n",
    "    time.sleep(10)  # Wait for the dynamic content to load\n",
    "    \n",
    "    # Scroll to load all hotels\n",
    "    for _ in range(3):  # May need adjustment based on actual page response\n",
    "        driver.execute_script(\"window.scrollTo(0, document.body.scrollHeight);\")\n",
    "        time.sleep(3)  # Allow time for lazy-loaded content\n",
    "\n",
    "    # Prepare to write to CSV\n",
    "    with open('hotels.csv', mode='w', newline='', encoding='utf-8') as file:\n",
    "        writer = csv.writer(file)\n",
    "        writer.writerow(['Hotel Name', 'Price'])\n",
    "        \n",
    "        # Process each hotel listing\n",
    "        hotel_listings = driver.find_elements(By.XPATH, \"//div[@data-index='4']//a[contains(@class, 'PVOOXe')]\")\n",
    "        count = 0\n",
    "\n",
    "        for listing in hotel_listings:\n",
    "            if count >= 15:\n",
    "                break\n",
    "            try:\n",
    "                hotel_name = listing.get_attribute('aria-label')\n",
    "                price_element = listing.find_element(By.XPATH, \".//following-sibling::div//span[@class='W9vOvb nDkDDb']\")\n",
    "                price = price_element.text\n",
    "                writer.writerow([hotel_name, price])\n",
    "                print(f\"Hotel: {hotel_name}, Price: {price}\")\n",
    "                count += 1\n",
    "            except Exception as e:\n",
    "                print(f\"Error extracting data for a hotel: {e}\")\n",
    "    \n",
    "    driver.quit()\n",
    "\n",
    "# Usage\n",
    "search_query = input(\"Enter location to search hotels: \")\n",
    "fetch_hotels(search_query)\n",
    "print(\"Hotels data has been saved and printed.\")\n"
   ]
  },
  {
   "cell_type": "code",
   "execution_count": 12,
   "id": "01f8cb2d",
   "metadata": {},
   "outputs": [
    {
     "name": "stdout",
     "output_type": "stream",
     "text": [
      "Enter your search query for hotels: Kolkata\n",
      "Hotel data has been saved to 'hotel_prices.csv'.\n"
     ]
    }
   ],
   "source": [
    "import requests\n",
    "import pandas as pd\n",
    "import re  # Regular expression library for string cleaning\n",
    "\n",
    "def fetch_hotel_data(search_query):\n",
    "    url = \"https://serpapi.com/search.json\"\n",
    "    params = {\n",
    "        \"engine\": \"google_hotels\",\n",
    "        \"q\": search_query,\n",
    "        \"gl\": \"us\",\n",
    "        \"hl\": \"en\",\n",
    "        \"currency\": \"INR\",\n",
    "        \"check_in_date\": \"2024-04-24\",\n",
    "        \"check_out_date\": \"2024-04-25\",\n",
    "        \"api_key\": \"6d3da6b11f95cee42bb81de16eb2b716b1f362601c55f86c9b59c1772bc4bc8f\"\n",
    "    }\n",
    "\n",
    "    response = requests.get(url, params=params)\n",
    "    return response.json()\n",
    "\n",
    "def clean_price(price_str):\n",
    "    # Removes any character that is not a digit or comma\n",
    "    cleaned_price = re.sub(r'[^\\d,]', '', price_str)\n",
    "    return cleaned_price\n",
    "\n",
    "def save_hotels_to_csv(hotel_data):\n",
    "    hotels_list = []\n",
    "    if 'properties' in hotel_data:\n",
    "        for hotel in hotel_data['properties']:\n",
    "            try:\n",
    "                if hotel['type'] == 'hotel':  # Ensuring it's a hotel type\n",
    "                    hotel_name = hotel['name']\n",
    "                    price_per_night = hotel.get('rate_per_night', {}).get('lowest', 'Not available')\n",
    "                    cleaned_price = clean_price(price_per_night)  # Clean the price string\n",
    "                    hotels_list.append({\"Hotel Name\": hotel_name, \"Price Per Night\": cleaned_price})\n",
    "            except KeyError as e:\n",
    "                print(f\"Missing key in data: {e}\")\n",
    "    \n",
    "    if hotels_list:\n",
    "        df = pd.DataFrame(hotels_list)\n",
    "        df.to_csv(\"hotel_prices.csv\", index=False)\n",
    "        print(\"Hotel data has been saved to 'hotel_prices.csv'.\")\n",
    "    else:\n",
    "        print(\"No hotel data available to save.\")\n",
    "\n",
    "def main():\n",
    "    user_input = input(\"Enter your search query for hotels: \")\n",
    "         \n",
    "    save_hotels_to_csv(hotel_data)\n",
    "\n",
    "if __name__ == \"__main__\":\n",
    "    main()\n"
   ]
  },
  {
   "cell_type": "code",
   "execution_count": null,
   "id": "f2270581",
   "metadata": {},
   "outputs": [],
   "source": []
  }
 ],
 "metadata": {
  "kernelspec": {
   "display_name": "Python 3 (ipykernel)",
   "language": "python",
   "name": "python3"
  },
  "language_info": {
   "codemirror_mode": {
    "name": "ipython",
    "version": 3
   },
   "file_extension": ".py",
   "mimetype": "text/x-python",
   "name": "python",
   "nbconvert_exporter": "python",
   "pygments_lexer": "ipython3",
   "version": "3.11.5"
  }
 },
 "nbformat": 4,
 "nbformat_minor": 5
}
